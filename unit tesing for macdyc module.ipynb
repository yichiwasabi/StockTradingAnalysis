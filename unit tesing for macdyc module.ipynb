{
 "cells": [
  {
   "cell_type": "code",
   "execution_count": 1,
   "metadata": {},
   "outputs": [
    {
     "name": "stderr",
     "output_type": "stream",
     "text": [
      "/home/nbuser/anaconda3_501/lib/python3.6/site-packages/nbformat/current.py:19: UserWarning: nbformat.current is deprecated.\n",
      "\n",
      "- use nbformat for read/write/validate public API\n",
      "- use nbformat.vX directly to composing notebooks of a particular version\n",
      "\n",
      "  \"\"\")\n"
     ]
    }
   ],
   "source": [
    "####This part is a ready-to-use block, which makes it possible to import ipynb in Jupyter notebook.\n",
    "##Please ignore this block!\n",
    "##Please ignore this block!\n",
    "##Please ignore this block!\n",
    "##Please ignore this block!\n",
    "import io, os, sys, types\n",
    "from IPython import get_ipython\n",
    "from nbformat import current\n",
    "from IPython.core.interactiveshell import InteractiveShell\n",
    "\n",
    "\n",
    "def find_notebook(fullname, path=None):\n",
    "    \"\"\"find a notebook, given its fully qualified name and an optional path\n",
    "\n",
    "    This turns \"foo.bar\" into \"foo/bar.ipynb\"\n",
    "    and tries turning \"Foo_Bar\" into \"Foo Bar\" if Foo_Bar\n",
    "    does not exist.\n",
    "    \"\"\"\n",
    "    name = fullname.rsplit('.', 1)[-1]\n",
    "    if not path:\n",
    "        path = ['']\n",
    "    for d in path:\n",
    "        nb_path = os.path.join(d, name + \".ipynb\")\n",
    "        if os.path.isfile(nb_path):\n",
    "            return nb_path\n",
    "        # let import Notebook_Name find \"Notebook Name.ipynb\"\n",
    "        nb_path = nb_path.replace(\"_\", \" \")\n",
    "        if os.path.isfile(nb_path):\n",
    "            return nb_path\n",
    "\n",
    "\n",
    "class NotebookLoader(object):\n",
    "    \"\"\"Module Loader for Jupyter Notebooks\"\"\"\n",
    "    def __init__(self, path=None):\n",
    "        self.shell = InteractiveShell.instance()\n",
    "        self.path = path\n",
    "\n",
    "    def load_module(self, fullname):\n",
    "        \"\"\"import a notebook as a module\"\"\"\n",
    "        path = find_notebook(fullname, self.path)\n",
    "\n",
    "        print (\"importing Jupyter notebook from %s\" % path)\n",
    "\n",
    "        # load the notebook object\n",
    "        with io.open(path, 'r', encoding='utf-8') as f:\n",
    "            nb = current.read(f, 'json')\n",
    "\n",
    "\n",
    "        # create the module and add it to sys.modules\n",
    "        # if name in sys.modules:\n",
    "        #    return sys.modules[name]\n",
    "        mod = types.ModuleType(fullname)\n",
    "        mod.__file__ = path\n",
    "        mod.__loader__ = self\n",
    "        mod.__dict__['get_ipython'] = get_ipython\n",
    "        sys.modules[fullname] = mod\n",
    "\n",
    "        # extra work to ensure that magics that would affect the user_ns\n",
    "        # actually affect the notebook module's ns\n",
    "        save_user_ns = self.shell.user_ns\n",
    "        self.shell.user_ns = mod.__dict__\n",
    "\n",
    "        try:\n",
    "            for cell in nb.worksheets[0].cells:\n",
    "                if cell.cell_type == 'code' and cell.language == 'python':\n",
    "                # transform the input to executable Python\n",
    "                    code = self.shell.input_transformer_manager.transform_cell(cell.input)\n",
    "                # run the code in themodule\n",
    "                    exec(code, mod.__dict__)\n",
    "        finally:\n",
    "            self.shell.user_ns = save_user_ns\n",
    "        return mod\n",
    "\n",
    "\n",
    "class NotebookFinder(object):\n",
    "    \"\"\"Module finder that locates Jupyter Notebooks\"\"\"\n",
    "    def __init__(self):\n",
    "        self.loaders = {}\n",
    "\n",
    "    def find_module(self, fullname, path=None):\n",
    "        nb_path = find_notebook(fullname, path)\n",
    "        if not nb_path:\n",
    "            return\n",
    "\n",
    "        key = path\n",
    "        if path:\n",
    "            # lists aren't hashable\n",
    "            key = os.path.sep.join(path)\n",
    "\n",
    "        if key not in self.loaders:\n",
    "            self.loaders[key] = NotebookLoader(path)\n",
    "        return self.loaders[key]\n",
    "\n",
    "sys.meta_path.append(NotebookFinder())"
   ]
  },
  {
   "cell_type": "code",
   "execution_count": 2,
   "metadata": {},
   "outputs": [
    {
     "name": "stdout",
     "output_type": "stream",
     "text": [
      "importing Jupyter notebook from macdyc.ipynb\n"
     ]
    }
   ],
   "source": [
    "#Import unittest module and the module need to be tested.\n",
    "import unittest\n",
    "import macdyc"
   ]
  },
  {
   "cell_type": "code",
   "execution_count": 3,
   "metadata": {},
   "outputs": [
    {
     "name": "stderr",
     "output_type": "stream",
     "text": [
      "macdyc.ipynb:4: FutureWarning: pd.ewm_mean is deprecated for ndarrays and will be removed in a future version\n",
      "  \"cell_type\": \"code\",\n",
      ".....\n",
      "----------------------------------------------------------------------\n",
      "Ran 5 tests in 0.104s\n",
      "\n",
      "OK\n"
     ]
    },
    {
     "data": {
      "text/plain": [
       "<unittest.main.TestProgram at 0x7fb2635d2860>"
      ]
     },
     "execution_count": 3,
     "metadata": {},
     "output_type": "execute_result"
    }
   ],
   "source": [
    "##From now we begin the unit testing of some blocking with unittest module.\n",
    "class macdTestCase(unittest.TestCase):\n",
    "    '''Tests for macdyc module.'''\n",
    "    def test_MA(self):\n",
    "        '''Test for the Moving Average (MA) fuction.'''\n",
    "        self.assertEqual(list(macdyc.MA([1,2,3],0)),[1,2,3])\n",
    "        self.assertEqual(list(macdyc.MA([2,2,2],2)),[2,2,2])\n",
    "    def test_crossover(self):\n",
    "        '''Test for the crossover fuction, which is used to compute diff-sig.'''\n",
    "        self.assertEqual(list(macdyc.crossover([1,2,3],0,0,0)),[0,0,0])\n",
    "        self.assertEqual(list(macdyc.crossover([1,1,1],2,2,2)),[0,0,0])\n",
    "    def test_ratio(self):\n",
    "        '''Test for the ratio fuction, which is used to indicate the change of an array!'''\n",
    "        self.assertEqual(macdyc.ratio([2,2,3,4]),[1,1,1.5,2])\n",
    "        self.assertEqual(macdyc.ratio([5,6,7,4]),[1,1.2,1.4,0.8])\n",
    "    def test_actions(self):\n",
    "        '''Test for the actions fuction, which can return the Buy-Sell sequence!'''\n",
    "        self.assertEqual(macdyc.actions([0,1,2,3,2,1,-1]),['nochange','buy','nochange','nochange',\\\n",
    "                                                         'nochange','nochange','sell',])\n",
    "    def test_valuedetail(self):\n",
    "        '''Test valuedetail, which return revenue details with the given Buy-Sell sequence!'''\n",
    "        action=['nochange','buy','nochange','nochange','sell']\n",
    "        data=[1,1.5,3,6,1.5]\n",
    "        initialvalue=1000000\n",
    "        commissionrate=0\n",
    "        self.assertEqual(macdyc.valuedetail(action,data,initialvalue,commissionrate)[0],[1000000,1000000,\\\n",
    "                                                                                          2000000,4000000,1000000])\n",
    "unittest.main(argv=['first-arg-is-ignored'], exit=False)"
   ]
  }
 ],
 "metadata": {
  "kernelspec": {
   "display_name": "Python 3.6",
   "language": "python",
   "name": "python36"
  },
  "language_info": {
   "codemirror_mode": {
    "name": "ipython",
    "version": 3
   },
   "file_extension": ".py",
   "mimetype": "text/x-python",
   "name": "python",
   "nbconvert_exporter": "python",
   "pygments_lexer": "ipython3",
   "version": "3.6.3"
  }
 },
 "nbformat": 4,
 "nbformat_minor": 2
}
