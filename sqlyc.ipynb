{
 "cells": [
  {
   "cell_type": "code",
   "execution_count": null,
   "metadata": {
    "collapsed": true
   },
   "outputs": [],
   "source": [
    "#This module is used to deal with SQL related tasks.\n",
    "#There are three fucntions in this module, link, writesymbol and writedetail."
   ]
  },
  {
   "cell_type": "code",
   "execution_count": null,
   "metadata": {},
   "outputs": [],
   "source": [
    "#Fuction link() is used to connect the Python to a MySQL database.\n",
    "#The default database is Yichi's MySQL database at Azure Cloud Service Microsoft.\n",
    "#Users can provide their own MySQL server details.\n",
    "#Begin to define the fuction linksql.\n",
    "def link(server='stockdata2018.database.windows.net',database = 'stockdata',\\\n",
    "            username = 'stock',password = 'Syc_123456'):\n",
    "    '''Fuction link can be employed to connect the Python programm to a MySQL database'''\n",
    "    import pyodbc\n",
    "    driver= '{ODBC Driver 13 for SQL Server}'\n",
    "    cnxn = pyodbc.connect('DRIVER='+driver+';PORT=1433;SERVER='+server+';PORT=1443;\\\n",
    "    DATABASE='+database+';UID='+username+';PWD='+ password)\n",
    "    cursor = cnxn.cursor()\n",
    "    print('Successfully connected to MySQL database!')\n",
    "    return cursor,cnxn\n",
    "#Done. Call link() to activate the connection to MySQL database.\n",
    "#The function will return the Connection Port!"
   ]
  },
  {
   "cell_type": "code",
   "execution_count": null,
   "metadata": {},
   "outputs": [],
   "source": [
    "#Fuction writesymbol() is used to upload the symbols of a Stock Symbol List to MySQL database.\n",
    "def writesymbol(symbollist,exchangemarket,cnsql):\n",
    "    '''Store the downloaded Stock Symbol Data to MySQL database'''\n",
    "    #import dlyc to download file.\n",
    "    cursor=cnsql[0]\n",
    "    cnxn=cnsql[1]\n",
    "    sql1=\"DROP TABLE IF EXISTS \"+exchangemarket.upper()\n",
    "    cursor.execute(sql1)\n",
    "    sql2 = 'CREATE TABLE '+exchangemarket.upper()+'(symbol varchar(255), company varchar(255),\\\n",
    "    sector varchar(255),industry varchar(255))'\n",
    "    cursor.execute(sql2)\n",
    "    print('Uploading the data to MySQL database, please wait!')\n",
    "    for item in symbollist:\n",
    "        rowdata=(item['symbol'], item['company'],\\\n",
    "                 item['sector'],item['industry'])\n",
    "        cursor.executemany(\"INSERT INTO \"+ exchangemarket.upper()+\\\n",
    "                           \"(symbol, company, sector, industry) VALUES (?,?,?,?)\",[rowdata])\n",
    "    #Commit changes and close database link.\n",
    "    cnxn.commit()\n",
    "    cursor.close()"
   ]
  },
  {
   "cell_type": "code",
   "execution_count": null,
   "metadata": {},
   "outputs": [],
   "source": [
    "#Fuction writedetail() is used to upload the data of a specific Stock Ticker to MySQL database.\n",
    "def writedetail(datafile,stockname,cnsql):\n",
    "    '''Store/update the details of a specific Stock'''\n",
    "    #import dlyc to download file.\n",
    "    cursor=cnsql[0]\n",
    "    cnxn=cnsql[1]\n",
    "    #Since the dowloaded file is in csv format, we import csv module to process files.\n",
    "    cursor = cnxn.cursor()\n",
    "    sql1=\"DROP TABLE IF EXISTS \"+stockname.upper()\n",
    "    cursor.execute(sql1)\n",
    "    sql2 = 'CREATE TABLE '+stockname.upper()+'(timestamp varchar(255), \\\n",
    "    openprice varchar(255), maxprice varchar(255),minprice varchar(255),\\\n",
    "    closeprice varchar(255), volume varchar(255))'\n",
    "    cursor.execute(sql2)\n",
    "    print('Uploading the data to MySQL database, please wait!')\n",
    "    for item in datafile:\n",
    "        rowdata=(item)\n",
    "        cursor.executemany(\"INSERT INTO \"+ stockname.upper()+\"(timestamp, openprice, \\\n",
    "        maxprice, minprice,closeprice,volume) VALUES (?,?,?,?,?,?)\",[rowdata])\n",
    "    #Commit changes and close database link.\n",
    "    cnxn.commit()\n",
    "    cursor.close()\n",
    "#Data stored in MySQL, Done!"
   ]
  }
 ],
 "metadata": {
  "kernelspec": {
   "display_name": "Python 3.6",
   "language": "python",
   "name": "python36"
  },
  "language_info": {
   "codemirror_mode": {
    "name": "ipython",
    "version": 3
   },
   "file_extension": ".py",
   "mimetype": "text/x-python",
   "name": "python",
   "nbconvert_exporter": "python",
   "pygments_lexer": "ipython3",
   "version": "3.6.3"
  }
 },
 "nbformat": 4,
 "nbformat_minor": 2
}
