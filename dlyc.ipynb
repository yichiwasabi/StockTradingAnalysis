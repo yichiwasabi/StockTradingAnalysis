{
 "cells": [
  {
   "cell_type": "code",
   "execution_count": null,
   "metadata": {
    "collapsed": true
   },
   "outputs": [],
   "source": [
    "#This is the Grabbing Data from public sources module!\n",
    "#Two fuctions, getsymbol() and getdetail()"
   ]
  },
  {
   "cell_type": "code",
   "execution_count": null,
   "metadata": {},
   "outputs": [],
   "source": [
    "#Define the getsymbol() fucntion\n",
    "#Get all avialbale symbols in a specific exchange market. AMEX/NYSE/NASDAQ\n",
    "def getsymbol(exchangemarket):\n",
    "    !pip install finsymbols\n",
    "    import finsymbols\n",
    "    if exchangemarket.upper()==\"AMEX\":\n",
    "        return finsymbols.get_amex_symbols()\n",
    "    if exchangemarket.upper()==\"NYSE\":\n",
    "        return finsymbols.get_nyse_symbols()\n",
    "    if exchangemarket.upper()==\"NASDAQ\":\n",
    "        return finsymbols.get_nasdaq_symbols()\n",
    "    else:\n",
    "        print(\"Sorry! Please specify an exchange market (AMEX/NYSE/NASDAQ):\")\n",
    "#This fuction will return a list, whose elements are dictionaries."
   ]
  },
  {
   "cell_type": "code",
   "execution_count": null,
   "metadata": {},
   "outputs": [],
   "source": [
    "#Define getdetails() fuction\n",
    "#Get the historical details of a specific Stock. Downloaded to a scv file.\n",
    "#The function will return the data in a list. \n",
    "def getdetail(stockname):\n",
    "    import urllib\n",
    "    #Retrieve from Alpha Vantage! I use this becasue recently Yohoo Finance API is not stable!\n",
    "    url='https://www.alphavantage.co/query?function=TIME_SERIES_DAILY&symbol='\\\n",
    "    +stockname+\"&outputsize=full&apikey=D3LIJ873VY1INKET&datatype=csv\"\n",
    "    urllib.request.urlretrieve(url, stockname.upper()+'.csv')\n",
    "    print('The historical data of', stockname.upper(), 'has been downloaded in a csv file.')\n",
    "    import csv\n",
    "    datafile=csv.reader(open(stockname.upper()+'.csv','r'))\n",
    "    return datafile\n",
    "#Finished the downloading of the historical data, up to 20 years!"
   ]
  },
  {
   "cell_type": "code",
   "execution_count": null,
   "metadata": {},
   "outputs": [],
   "source": [
    "def getclosedata(datafile,startdate,enddate):\n",
    "    data=[]\n",
    "    for daydata in datafile:\n",
    "        if daydata[0]<startdate:\n",
    "            break\n",
    "        if (daydata[0]<=enddate)==1:\n",
    "            data.append(daydata[4])\n",
    "    return data[::-1]\n",
    "#Return the close price, ordered from the earliest to the latest!"
   ]
  }
 ],
 "metadata": {
  "kernelspec": {
   "display_name": "Python 3.6",
   "language": "python",
   "name": "python36"
  },
  "language_info": {
   "codemirror_mode": {
    "name": "ipython",
    "version": 3
   },
   "file_extension": ".py",
   "mimetype": "text/x-python",
   "name": "python",
   "nbconvert_exporter": "python",
   "pygments_lexer": "ipython3",
   "version": "3.6.3"
  }
 },
 "nbformat": 4,
 "nbformat_minor": 2
}
