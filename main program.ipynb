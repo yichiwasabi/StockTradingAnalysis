{
 "cells": [
  {
   "cell_type": "code",
   "execution_count": 1,
   "metadata": {},
   "outputs": [
    {
     "name": "stderr",
     "output_type": "stream",
     "text": [
      "/home/nbuser/anaconda3_501/lib/python3.6/site-packages/nbformat/current.py:19: UserWarning: nbformat.current is deprecated.\n",
      "\n",
      "- use nbformat for read/write/validate public API\n",
      "- use nbformat.vX directly to composing notebooks of a particular version\n",
      "\n",
      "  \"\"\")\n"
     ]
    }
   ],
   "source": [
    "####This part is a ready-to-use block, which makes it possible to import ipynb in Jupyter notebook.\n",
    "##Please ignore this block!\n",
    "##Please ignore this block!\n",
    "##Please ignore this block!\n",
    "##Please ignore this block!\n",
    "import io, os, sys, types\n",
    "from IPython import get_ipython\n",
    "from nbformat import current\n",
    "from IPython.core.interactiveshell import InteractiveShell\n",
    "\n",
    "\n",
    "def find_notebook(fullname, path=None):\n",
    "    \"\"\"find a notebook, given its fully qualified name and an optional path\n",
    "\n",
    "    This turns \"foo.bar\" into \"foo/bar.ipynb\"\n",
    "    and tries turning \"Foo_Bar\" into \"Foo Bar\" if Foo_Bar\n",
    "    does not exist.\n",
    "    \"\"\"\n",
    "    name = fullname.rsplit('.', 1)[-1]\n",
    "    if not path:\n",
    "        path = ['']\n",
    "    for d in path:\n",
    "        nb_path = os.path.join(d, name + \".ipynb\")\n",
    "        if os.path.isfile(nb_path):\n",
    "            return nb_path\n",
    "        # let import Notebook_Name find \"Notebook Name.ipynb\"\n",
    "        nb_path = nb_path.replace(\"_\", \" \")\n",
    "        if os.path.isfile(nb_path):\n",
    "            return nb_path\n",
    "\n",
    "\n",
    "class NotebookLoader(object):\n",
    "    \"\"\"Module Loader for Jupyter Notebooks\"\"\"\n",
    "    def __init__(self, path=None):\n",
    "        self.shell = InteractiveShell.instance()\n",
    "        self.path = path\n",
    "\n",
    "    def load_module(self, fullname):\n",
    "        \"\"\"import a notebook as a module\"\"\"\n",
    "        path = find_notebook(fullname, self.path)\n",
    "\n",
    "        print (\"importing Jupyter notebook from %s\" % path)\n",
    "\n",
    "        # load the notebook object\n",
    "        with io.open(path, 'r', encoding='utf-8') as f:\n",
    "            nb = current.read(f, 'json')\n",
    "\n",
    "\n",
    "        # create the module and add it to sys.modules\n",
    "        # if name in sys.modules:\n",
    "        #    return sys.modules[name]\n",
    "        mod = types.ModuleType(fullname)\n",
    "        mod.__file__ = path\n",
    "        mod.__loader__ = self\n",
    "        mod.__dict__['get_ipython'] = get_ipython\n",
    "        sys.modules[fullname] = mod\n",
    "\n",
    "        # extra work to ensure that magics that would affect the user_ns\n",
    "        # actually affect the notebook module's ns\n",
    "        save_user_ns = self.shell.user_ns\n",
    "        self.shell.user_ns = mod.__dict__\n",
    "\n",
    "        try:\n",
    "            for cell in nb.worksheets[0].cells:\n",
    "                if cell.cell_type == 'code' and cell.language == 'python':\n",
    "                # transform the input to executable Python\n",
    "                    code = self.shell.input_transformer_manager.transform_cell(cell.input)\n",
    "                # run the code in themodule\n",
    "                    exec(code, mod.__dict__)\n",
    "        finally:\n",
    "            self.shell.user_ns = save_user_ns\n",
    "        return mod\n",
    "\n",
    "\n",
    "class NotebookFinder(object):\n",
    "    \"\"\"Module finder that locates Jupyter Notebooks\"\"\"\n",
    "    def __init__(self):\n",
    "        self.loaders = {}\n",
    "\n",
    "    def find_module(self, fullname, path=None):\n",
    "        nb_path = find_notebook(fullname, path)\n",
    "        if not nb_path:\n",
    "            return\n",
    "\n",
    "        key = path\n",
    "        if path:\n",
    "            # lists aren't hashable\n",
    "            key = os.path.sep.join(path)\n",
    "\n",
    "        if key not in self.loaders:\n",
    "            self.loaders[key] = NotebookLoader(path)\n",
    "        return self.loaders[key]\n",
    "\n",
    "sys.meta_path.append(NotebookFinder())"
   ]
  },
  {
   "cell_type": "code",
   "execution_count": 2,
   "metadata": {},
   "outputs": [
    {
     "name": "stdout",
     "output_type": "stream",
     "text": [
      "importing Jupyter notebook from dlyc.ipynb\n",
      "importing Jupyter notebook from sqlyc.ipynb\n"
     ]
    }
   ],
   "source": [
    "#Import the downloading module to download data from public resources.\n",
    "import dlyc\n",
    "import sqlyc"
   ]
  },
  {
   "cell_type": "code",
   "execution_count": 3,
   "metadata": {},
   "outputs": [
    {
     "name": "stdout",
     "output_type": "stream",
     "text": [
      "Please input the exchange market (e.g., AMEX/NYSE/NSADAQ):amex\n",
      "Requirement already satisfied: finsymbols in /home/nbuser/anaconda3_501/lib/python3.6/site-packages\n",
      "Requirement already satisfied: beautifulsoup4>=4.2.1 in /home/nbuser/anaconda3_501/lib/python3.6/site-packages (from finsymbols)\n",
      "The available symbols in AMEX has been downloaded!\n"
     ]
    }
   ],
   "source": [
    "#Retrieve available stock names (Symbol;Company;Industry;Sector) in an exchangemarket from public resouces.\n",
    "exchangemarket=input('Please input the exchange market (e.g., AMEX/NYSE/NSADAQ):')\n",
    "symbollist=dlyc.getsymbol(exchangemarket)\n",
    "print('The available symbols in',exchangemarket.upper(), 'has been downloaded!')"
   ]
  },
  {
   "cell_type": "code",
   "execution_count": 4,
   "metadata": {},
   "outputs": [
    {
     "name": "stdout",
     "output_type": "stream",
     "text": [
      "Please input the stock name: baba\n",
      "The historical data of BABA has been downloaded in a csv file.\n"
     ]
    }
   ],
   "source": [
    "#Retrieve stock data (Date;Open;High;Low;Close;Volume) from public resouces.\n",
    "#At the same time, a csv file will also be stored in the local directory.\n",
    "stockname=input('Please input the stock name: ')\n",
    "datafile=dlyc.getdetail(stockname)"
   ]
  },
  {
   "cell_type": "code",
   "execution_count": 5,
   "metadata": {},
   "outputs": [
    {
     "name": "stdout",
     "output_type": "stream",
     "text": [
      "Successfully connected to MySQL database!\n",
      "Uploading the data to MySQL database, please wait!\n",
      "Congratulations! All available symbols in AMEX has been stored/updated in MySQL database!\n"
     ]
    }
   ],
   "source": [
    "#Write it to MySQL database.\n",
    "cnsql=sqlyc.link()\n",
    "sqlyc.writesymbol(symbollist,exchangemarket,cnsql)\n",
    "print('Congratulations! All available symbols in',exchangemarket.upper(),\\\n",
    "      'has been stored/updated in MySQL database!')"
   ]
  },
  {
   "cell_type": "code",
   "execution_count": 6,
   "metadata": {},
   "outputs": [
    {
     "name": "stdout",
     "output_type": "stream",
     "text": [
      "Successfully connected to MySQL database!\n",
      "Uploading the data to MySQL database, please wait!\n",
      "Congratulations! The historical data of BABA has been stored/updated in MySQL database.\n"
     ]
    }
   ],
   "source": [
    "##Write stock data to MySQL database.\n",
    "cnsql=sqlyc.link()\n",
    "sqlyc.writedetail(datafile,stockname,cnsql)\n",
    "print('Congratulations! The historical data of',stockname.upper(),'has been stored/updated in MySQL database.')"
   ]
  },
  {
   "cell_type": "code",
   "execution_count": 6,
   "metadata": {},
   "outputs": [
    {
     "name": "stdout",
     "output_type": "stream",
     "text": [
      "Please indicate the start date (YEAR-MON-DAY):2017-01-01\n",
      "Please indicate the end date (YEAR-MON-DAY):2018-01-01\n",
      "Contratulations! The details of BABA in thespecific time interval has been stored in a LIST named data.\n"
     ]
    }
   ],
   "source": [
    "#Specify the data sample.\n",
    "startdate=input('Please indicate the start date (YEAR-MON-DAY):')\n",
    "enddate=input('Please indicate the end date (YEAR-MON-DAY):')\n",
    "data=dlyc.getclosedata(datafile,startdate,enddate)\n",
    "print('Contratulations! The details of',stockname.upper(),'in the\\\n",
    "specific time interval has been stored in a LIST named data.')"
   ]
  },
  {
   "cell_type": "code",
   "execution_count": 7,
   "metadata": {},
   "outputs": [
    {
     "name": "stdout",
     "output_type": "stream",
     "text": [
      "importing Jupyter notebook from macdyc.ipynb\n"
     ]
    }
   ],
   "source": [
    "#Import macdyc module to caculate MACD related parameters.\n",
    "import macdyc"
   ]
  },
  {
   "cell_type": "code",
   "execution_count": 8,
   "metadata": {},
   "outputs": [
    {
     "name": "stdout",
     "output_type": "stream",
     "text": [
      "Please input the short period (days) for MACD:9\n",
      "Please input the long period (days) for MACD:26\n",
      "Please input the period (days) for calculating the signal line:30\n"
     ]
    },
    {
     "name": "stderr",
     "output_type": "stream",
     "text": [
      "macdyc.ipynb:4: FutureWarning: pd.ewm_mean is deprecated for ndarrays and will be removed in a future version\n",
      "  \"cell_type\": \"code\",\n"
     ]
    }
   ],
   "source": [
    "## Compute the diffsig, i.e., diff-signal!\n",
    "#Short period, long period and the signal period required!\n",
    "shortperiod=input('Please input the short period (days) for MACD:')\n",
    "longperiod=input('Please input the long period (days) for MACD:')\n",
    "signalperiod=input('Please input the period (days) for calculating the signal line:')\n",
    "diffsig=macdyc.crossover(data,shortperiod,longperiod,signalperiod)"
   ]
  },
  {
   "cell_type": "code",
   "execution_count": 10,
   "metadata": {},
   "outputs": [
    {
     "data": {
      "image/png": "[encoded data removed]",
      "text/plain": [
       "<matplotlib.figure.Figure at 0x7faf83132da0>"
      ]
     },
     "metadata": {},
     "output_type": "display_data"
    }
   ],
   "source": [
    "#Show the Buy-Sell line!\n",
    "macdyc.trend(diffsig)"
   ]
  },
  {
   "cell_type": "code",
   "execution_count": 11,
   "metadata": {},
   "outputs": [],
   "source": [
    "#Get the action sequence on each trading day according to the diff-sig\n",
    "action=macdyc.actions(diffsig)"
   ]
  },
  {
   "cell_type": "code",
   "execution_count": 12,
   "metadata": {},
   "outputs": [
    {
     "name": "stdout",
     "output_type": "stream",
     "text": [
      "Please indicate the initial capital:1000000\n",
      "Please indicate the commission rate:0\n",
      "Congratulations! The revenue details of the MACD strategy has been generated and you can check!\n"
     ]
    }
   ],
   "source": [
    "#Given an initial value, we can return the revenue details of the MACD strategy.\n",
    "initialvalue=input('Please indicate the initial capital:')\n",
    "commissionrate=input('Please indicate the commission rate:')\n",
    "revenuedetails=macdyc.valuedetail(action,data,initialvalue,commissionrate)\n",
    "print('Congratulations! The revenue details of the MACD strategy has been generated and you can check!')"
   ]
  },
  {
   "cell_type": "code",
   "execution_count": 13,
   "metadata": {},
   "outputs": [
    {
     "name": "stdout",
     "output_type": "stream",
     "text": [
      "The change of stock price is shown in the green line.\n",
      "The change of revenues is shown in the green line.\n"
     ]
    },
    {
     "data": {
      "image/png": "[encoded data removed]",
      "text/plain": [
       "<matplotlib.figure.Figure at 0x7faf83132c18>"
      ]
     },
     "metadata": {},
     "output_type": "display_data"
    }
   ],
   "source": [
    "#Look through the change of revenues/stockprices.\n",
    "changeofstock=macdyc.ratio(data)\n",
    "changeofvalue=macdyc.ratio(revenuedetails[0])\n",
    "macdyc.compare(changeofstock,changeofvalue)\n",
    "print('The change of stock price is shown in the green line.')\n",
    "print('The change of revenues is shown in the green line.')"
   ]
  },
  {
   "cell_type": "code",
   "execution_count": 14,
   "metadata": {},
   "outputs": [
    {
     "name": "stdout",
     "output_type": "stream",
     "text": [
      "PNL of the MACD strategy is 845320.9590100541\n"
     ]
    }
   ],
   "source": [
    "#Return the PNL of the MACD strategy!\n",
    "print('PNL of the MACD strategy is',revenuedetails[0][-1]-revenuedetails[0][0])\n",
    "#Program end!"
   ]
  }
 ],
 "metadata": {
  "kernelspec": {
   "display_name": "Python 3.6",
   "language": "python",
   "name": "python36"
  },
  "language_info": {
   "codemirror_mode": {
    "name": "ipython",
    "version": 3
   },
   "file_extension": ".py",
   "mimetype": "text/x-python",
   "name": "python",
   "nbconvert_exporter": "python",
   "pygments_lexer": "ipython3",
   "version": "3.6.3"
  }
 },
 "nbformat": 4,
 "nbformat_minor": 2
}
