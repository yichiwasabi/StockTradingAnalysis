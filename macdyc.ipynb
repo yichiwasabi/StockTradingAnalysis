{
 "cells": [
  {
   "cell_type": "code",
   "execution_count": null,
   "metadata": {
    "collapsed": true
   },
   "outputs": [],
   "source": [
    "#This module is emplyed to caculate the MACD related parameters.\n",
    "import pandas\n",
    "import numpy\n",
    "#import the module for data processing"
   ]
  },
  {
   "cell_type": "code",
   "execution_count": null,
   "metadata": {},
   "outputs": [],
   "source": [
    "#Define the function to calulate MA\n",
    "def MA(data,period):\n",
    "    data=numpy.asarray(data)\n",
    "    return pandas.ewma(data,float(period))\n",
    "#Calculate the MA with the indicated period"
   ]
  },
  {
   "cell_type": "code",
   "execution_count": null,
   "metadata": {},
   "outputs": [],
   "source": [
    "#Compute the MACD Signal Crossover line.\n",
    "def crossover(data,shortperiod,longperiod,signalperiod):\n",
    "    diff=MA(data,float(shortperiod))-MA(data,float(longperiod))\n",
    "    signal=MA(diff,signalperiod)\n",
    "    return diff-signal"
   ]
  },
  {
   "cell_type": "code",
   "execution_count": null,
   "metadata": {},
   "outputs": [],
   "source": [
    "#Get the action at each day based on the index line, e.g., the line can be \n",
    "#the MACD Signal Crossover.\n",
    "def actions(diffsig):\n",
    "    action=['nochange']\n",
    "    status=['notholding']\n",
    "    i=1\n",
    "    while i<len(diffsig):\n",
    "        if (diffsig[i]>0) and (diffsig[i-1]<=0) and status[i-1]=='notholding':\n",
    "            action.append('buy')\n",
    "            status.append('isholding')\n",
    "            i+=1\n",
    "        elif (diffsig[i]<0) and (diffsig[i-1]>=0) and status[i-1]=='isholding':\n",
    "            action.append('sell')\n",
    "            status.append('notholding')\n",
    "            i+=1\n",
    "        else:\n",
    "            action.append('nochange')\n",
    "            status.append(status[i-1])\n",
    "            i+=1\n",
    "    return action"
   ]
  },
  {
   "cell_type": "code",
   "execution_count": null,
   "metadata": {},
   "outputs": [],
   "source": [
    "#Given an initial conditon and the action sequence, this function will\n",
    "#return the value details at each day!\n",
    "def valuedetail(action,data,initialvalue,commissionrate):\n",
    "    totalvalue=[0 for i in range(len(data))]\n",
    "    stockquantity=[0 for i in range(len(data))]\n",
    "    cash=[0 for i in range(len(data))]\n",
    "    stockvalue=[0 for i in range(len(data))]\n",
    "    totalvalue[0]=float(initialvalue)\n",
    "    stockquantity[0]=0\n",
    "    cash[0]=float(initialvalue)\n",
    "    stockvalue[0]=0\n",
    "    i=1\n",
    "    while i<len(action):\n",
    "        if action[i]=='nochange':\n",
    "            stockquantity[i]=stockquantity[i-1]\n",
    "            cash[i]=cash[i-1]\n",
    "            stockvalue[i]=float(data[i])*stockquantity[i]\n",
    "            totalvalue[i]=stockvalue[i]+cash[i]\n",
    "        elif action[i]=='sell':\n",
    "            stockquantity[i]=0\n",
    "            cash[i]=float(data[i])*stockquantity[i-1]*(1-float(commissionrate))\n",
    "            stockvalue[i]=float(data[i])*stockquantity[i]\n",
    "            totalvalue[i]=stockvalue[i]+cash[i]\n",
    "        else:\n",
    "            stockquantity[i]=(1-float(commissionrate))*cash[i-1]/float(data[i])\n",
    "            cash[i]=0\n",
    "            stockvalue[i]=float(data[i])*stockquantity[i]\n",
    "            totalvalue[i]=stockvalue[i]+cash[i]\n",
    "        i+=1\n",
    "    return (totalvalue,cash,stockquantity,stockvalue)\n",
    "    "
   ]
  },
  {
   "cell_type": "code",
   "execution_count": null,
   "metadata": {},
   "outputs": [],
   "source": [
    "#This fuction will return the change (ratio) of the value in a list.\n",
    "#For example, ratio([2,2,3,4]) equals [1,1,1.5,2]\n",
    "def ratio(data):\n",
    "    changeofratio=[]\n",
    "    for item in data:\n",
    "        changeofratio.append(float(item)/float(data[0]))\n",
    "    return changeofratio"
   ]
  },
  {
   "cell_type": "code",
   "execution_count": null,
   "metadata": {},
   "outputs": [],
   "source": [
    "#This is function is to genrate and compare the trends of two sets of data.\n",
    "def compare(a,b):\n",
    "    import matplotlib.pyplot as pyplot\n",
    "    pyplot.plot(a,'g-',b,'r-')\n",
    "    pyplot.xlabel('Day #')\n",
    "    pyplot.ylabel('Ratio')"
   ]
  },
  {
   "cell_type": "code",
   "execution_count": null,
   "metadata": {},
   "outputs": [],
   "source": [
    "#This function is to generate the trend of any array.\n",
    "def trend(a):\n",
    "    import matplotlib.pyplot as pyplot\n",
    "    pyplot.plot(a)"
   ]
  }
 ],
 "metadata": {
  "kernelspec": {
   "display_name": "Python 3.6",
   "language": "python",
   "name": "python36"
  },
  "language_info": {
   "codemirror_mode": {
    "name": "ipython",
    "version": 3
   },
   "file_extension": ".py",
   "mimetype": "text/x-python",
   "name": "python",
   "nbconvert_exporter": "python",
   "pygments_lexer": "ipython3",
   "version": "3.6.3"
  }
 },
 "nbformat": 4,
 "nbformat_minor": 2
}
